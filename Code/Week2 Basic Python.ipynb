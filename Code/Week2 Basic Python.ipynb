{
 "cells": [
  {
   "cell_type": "markdown",
   "metadata": {},
   "source": [
    "# User Input"
   ]
  },
  {
   "cell_type": "code",
   "execution_count": 1,
   "metadata": {},
   "outputs": [
    {
     "name": "stdout",
     "output_type": "stream",
     "text": [
      "69\n"
     ]
    }
   ],
   "source": [
    "a = 69\n",
    "print(a)"
   ]
  },
  {
   "cell_type": "code",
   "execution_count": 2,
   "metadata": {},
   "outputs": [
    {
     "name": "stdout",
     "output_type": "stream",
     "text": [
      "Alif\n",
      "Alif\n"
     ]
    }
   ],
   "source": [
    "a = input() # always returns string\n",
    "print(a)"
   ]
  },
  {
   "cell_type": "code",
   "execution_count": 3,
   "metadata": {},
   "outputs": [
    {
     "name": "stdout",
     "output_type": "stream",
     "text": [
      "Enter a number: 69\n",
      "92\n"
     ]
    }
   ],
   "source": [
    "a = int(input('Enter a number: ')) # always returns string\n",
    "print(a + 23)"
   ]
  },
  {
   "cell_type": "code",
   "execution_count": 4,
   "metadata": {},
   "outputs": [
    {
     "name": "stdout",
     "output_type": "stream",
     "text": [
      "Enter your name: 69\n",
      "Your name is 69\n"
     ]
    }
   ],
   "source": [
    "name = input('Enter your name: ') # always returns string\n",
    "print('Your name is ' + name)"
   ]
  },
  {
   "cell_type": "markdown",
   "metadata": {},
   "source": [
    "# Loop"
   ]
  },
  {
   "cell_type": "code",
   "execution_count": 9,
   "metadata": {},
   "outputs": [
    {
     "name": "stdout",
     "output_type": "stream",
     "text": [
      "20\n",
      "43\n",
      "37\n",
      "2\n",
      "ok\n",
      "not\n"
     ]
    }
   ],
   "source": [
    "numbers = [20, 43, 37, 2]\n",
    "\n",
    "for n in numbers:\n",
    "    print(n)\n",
    "print('ok')\n",
    "print('not')"
   ]
  },
  {
   "cell_type": "code",
   "execution_count": 10,
   "metadata": {},
   "outputs": [
    {
     "name": "stdout",
     "output_type": "stream",
     "text": [
      "20\n",
      "43\n",
      "37\n",
      "2\n"
     ]
    }
   ],
   "source": [
    "for i in range(len(numbers)):\n",
    "    print(numbers[i])"
   ]
  },
  {
   "cell_type": "code",
   "execution_count": 15,
   "metadata": {},
   "outputs": [
    {
     "name": "stdout",
     "output_type": "stream",
     "text": [
      "0 9 18 27 36 45 "
     ]
    }
   ],
   "source": [
    "# for(i=0; i<10; i++){}\n",
    "# range\n",
    "for i in range(0,50,9):\n",
    "    print(i, end = ' ')"
   ]
  },
  {
   "cell_type": "code",
   "execution_count": 21,
   "metadata": {},
   "outputs": [
    {
     "name": "stdout",
     "output_type": "stream",
     "text": [
      "11\n",
      "31\n",
      "51\n",
      "71\n",
      "91\n"
     ]
    }
   ],
   "source": [
    "# print even number\n",
    "for i in range(11,100,20):    \n",
    "    print(i)"
   ]
  },
  {
   "cell_type": "code",
   "execution_count": 23,
   "metadata": {},
   "outputs": [
    {
     "name": "stdout",
     "output_type": "stream",
     "text": [
      "0\n",
      "2\n",
      "4\n",
      "6\n",
      "8\n",
      "10\n",
      "12\n",
      "14\n"
     ]
    }
   ],
   "source": [
    "# print even number\n",
    "for i in range(15):  \n",
    "    if i % 2 == 0:\n",
    "        print(i)"
   ]
  },
  {
   "cell_type": "code",
   "execution_count": 24,
   "metadata": {},
   "outputs": [
    {
     "name": "stdout",
     "output_type": "stream",
     "text": [
      "0\n",
      "2\n",
      "4\n",
      "6\n",
      "8\n",
      "10\n",
      "12\n",
      "14\n"
     ]
    }
   ],
   "source": [
    "# print even number\n",
    "for i in range(15):  \n",
    "    if i % 2 == 1:\n",
    "        continue\n",
    "    print(i)"
   ]
  },
  {
   "cell_type": "code",
   "execution_count": 28,
   "metadata": {},
   "outputs": [
    {
     "name": "stdout",
     "output_type": "stream",
     "text": [
      "okay\n",
      "fine\n"
     ]
    }
   ],
   "source": [
    "# indent\n",
    "i = 69\n",
    "if i < 70: # () not required, {} not required\n",
    "    print('okay')\n",
    "    print('fine')\n",
    "else:\n",
    "    print('bad')\n",
    "    print('not okay') # will be executed in each run"
   ]
  },
  {
   "cell_type": "code",
   "execution_count": 30,
   "metadata": {},
   "outputs": [
    {
     "name": "stdout",
     "output_type": "stream",
     "text": [
      "0\n",
      "17\n",
      "34\n",
      "51\n",
      "68\n",
      "85\n",
      "ok\n",
      "done\n"
     ]
    }
   ],
   "source": [
    "# loop\n",
    "for i in range(0,100,17):\n",
    "    print(i)\n",
    "print(\"ok\")\n",
    "print(\"done\")"
   ]
  },
  {
   "cell_type": "code",
   "execution_count": 41,
   "metadata": {},
   "outputs": [
    {
     "name": "stdout",
     "output_type": "stream",
     "text": [
      "b\n",
      "class\n",
      "u\n",
      "class\n",
      "n\n",
      "class\n",
      "k\n",
      "class\n"
     ]
    }
   ],
   "source": [
    "myjob = \"class\"\n",
    "for c in \"bunk\": \n",
    "    print(c,end='\\n')\n",
    "    print(myjob,end='\\n')"
   ]
  },
  {
   "cell_type": "markdown",
   "metadata": {},
   "source": [
    "# IF, IF ELSE, ELSE IF"
   ]
  },
  {
   "cell_type": "code",
   "execution_count": 42,
   "metadata": {},
   "outputs": [
    {
     "name": "stdout",
     "output_type": "stream",
     "text": [
      "greater\n"
     ]
    }
   ],
   "source": [
    "# if\n",
    "a = 22\n",
    "if a > 2:\n",
    "    print ('greater')"
   ]
  },
  {
   "cell_type": "code",
   "execution_count": 43,
   "metadata": {},
   "outputs": [
    {
     "name": "stdout",
     "output_type": "stream",
     "text": [
      "smaller\n"
     ]
    }
   ],
   "source": [
    "# if-else\n",
    "a = 22\n",
    "if a > 69:\n",
    "    print ('greater')\n",
    "else:\n",
    "    print( 'smaller')"
   ]
  },
  {
   "cell_type": "code",
   "execution_count": 47,
   "metadata": {},
   "outputs": [
    {
     "name": "stdout",
     "output_type": "stream",
     "text": [
      "larger\n"
     ]
    }
   ],
   "source": [
    "a = 69\n",
    "if a < 0:\n",
    "    print('small')\n",
    "elif a < 50:\n",
    "    print('medium')\n",
    "elif a < 70:\n",
    "    print('larger')\n",
    "else:\n",
    "    print('out of range')"
   ]
  },
  {
   "cell_type": "markdown",
   "metadata": {},
   "source": [
    "# Method"
   ]
  },
  {
   "cell_type": "code",
   "execution_count": 48,
   "metadata": {},
   "outputs": [],
   "source": [
    "# define method\n",
    "def addnumbers(a, b): # add numbers and return result\n",
    "    # logic\n",
    "    c = a + b\n",
    "    return c"
   ]
  },
  {
   "cell_type": "code",
   "execution_count": 49,
   "metadata": {},
   "outputs": [
    {
     "data": {
      "text/plain": [
       "165"
      ]
     },
     "execution_count": 49,
     "metadata": {},
     "output_type": "execute_result"
    }
   ],
   "source": [
    "addnumbers(69, 96) # use or call method"
   ]
  },
  {
   "cell_type": "code",
   "execution_count": 50,
   "metadata": {},
   "outputs": [
    {
     "data": {
      "text/plain": [
       "60"
      ]
     },
     "execution_count": 50,
     "metadata": {},
     "output_type": "execute_result"
    }
   ],
   "source": [
    "addnumbers(34, 26)"
   ]
  },
  {
   "cell_type": "code",
   "execution_count": 51,
   "metadata": {},
   "outputs": [],
   "source": [
    "# add list values\n",
    "def addValues(num):\n",
    "    sum = 0\n",
    "    for n in num:\n",
    "        sum = sum + n\n",
    "    return sum\n",
    "    "
   ]
  },
  {
   "cell_type": "code",
   "execution_count": 52,
   "metadata": {},
   "outputs": [
    {
     "data": {
      "text/plain": [
       "102"
      ]
     },
     "execution_count": 52,
     "metadata": {},
     "output_type": "execute_result"
    }
   ],
   "source": [
    "v = [20, 43,37, 2]\n",
    "addValues(v)"
   ]
  },
  {
   "cell_type": "code",
   "execution_count": 53,
   "metadata": {},
   "outputs": [
    {
     "data": {
      "text/plain": [
       "52"
      ]
     },
     "execution_count": 53,
     "metadata": {},
     "output_type": "execute_result"
    }
   ],
   "source": [
    "v = [2, 0,4, 3, 3, 7,2, 1, 6, 9,9, 6]\n",
    "addValues(v)"
   ]
  },
  {
   "cell_type": "code",
   "execution_count": 63,
   "metadata": {},
   "outputs": [],
   "source": [
    "# task: write a method which will add numbers of two different lists\n",
    "# returns another list\n",
    "# Example:\n",
    "# [3,4,5,1]\n",
    "# [6,7,2,8]\n",
    "# output: [9,11,7,9]\n"
   ]
  },
  {
   "cell_type": "code",
   "execution_count": 107,
   "metadata": {},
   "outputs": [],
   "source": [
    "def addtwolist(x,y):\n",
    "    sum = []\n",
    "    for i in range(len(x)):\n",
    "        sum = [x[i] + y[i] for i in range(len(x))]\n",
    "    return sum"
   ]
  },
  {
   "cell_type": "code",
   "execution_count": 108,
   "metadata": {},
   "outputs": [
    {
     "data": {
      "text/plain": [
       "[9, 11, 7, 9]"
      ]
     },
     "execution_count": 108,
     "metadata": {},
     "output_type": "execute_result"
    }
   ],
   "source": [
    "c=[3,4,5,1]\n",
    "d=[6,7,2,8]\n",
    "addtwolist(c,d)"
   ]
  },
  {
   "cell_type": "code",
   "execution_count": 55,
   "metadata": {},
   "outputs": [],
   "source": [
    "# method/function\n",
    "def multiTable(n, r=10):\n",
    "    for i in range(1,r+1):\n",
    "        print(\"{}X{}={}\".format(n,i,n*i))\n"
   ]
  },
  {
   "cell_type": "code",
   "execution_count": 56,
   "metadata": {},
   "outputs": [
    {
     "name": "stdout",
     "output_type": "stream",
     "text": [
      "69X1=69\n",
      "69X2=138\n",
      "69X3=207\n",
      "69X4=276\n",
      "69X5=345\n"
     ]
    }
   ],
   "source": [
    "multiTable(69,5)"
   ]
  },
  {
   "cell_type": "code",
   "execution_count": 57,
   "metadata": {},
   "outputs": [
    {
     "name": "stdout",
     "output_type": "stream",
     "text": [
      "69X1=69\n",
      "69X2=138\n",
      "69X3=207\n",
      "69X4=276\n",
      "69X5=345\n",
      "69X6=414\n",
      "69X7=483\n",
      "69X8=552\n",
      "69X9=621\n",
      "69X10=690\n"
     ]
    }
   ],
   "source": [
    "multiTable(69)"
   ]
  },
  {
   "cell_type": "code",
   "execution_count": 78,
   "metadata": {},
   "outputs": [],
   "source": [
    "# task\n",
    "# define a method to print first name and last name from full name\n",
    "\n",
    "# ex: input: Arafat Rahman \n",
    "# output: \n",
    "#first name: Arafat\n",
    "#last name: Rahman\n",
    "\n",
    "# getNames('Arafat Rahman')\n",
    " #def getNames():\n",
    "        #define logic\n"
   ]
  },
  {
   "cell_type": "code",
   "execution_count": 105,
   "metadata": {},
   "outputs": [],
   "source": [
    "def getNames(x):\n",
    "    first=x.split()[0]\n",
    "    last=x.split()[-1]\n",
    "    return( first,last)"
   ]
  },
  {
   "cell_type": "code",
   "execution_count": 106,
   "metadata": {},
   "outputs": [
    {
     "ename": "NameError",
     "evalue": "name 'first' is not defined",
     "output_type": "error",
     "traceback": [
      "\u001b[1;31m---------------------------------------------------------------------------\u001b[0m",
      "\u001b[1;31mNameError\u001b[0m                                 Traceback (most recent call last)",
      "\u001b[1;32m<ipython-input-106-54474c66e9c3>\u001b[0m in \u001b[0;36m<module>\u001b[1;34m\u001b[0m\n\u001b[0;32m      1\u001b[0m \u001b[0mb\u001b[0m\u001b[1;33m=\u001b[0m\u001b[1;34m\"Ashraful Hossain Alif\"\u001b[0m\u001b[1;33m\u001b[0m\u001b[1;33m\u001b[0m\u001b[0m\n\u001b[0;32m      2\u001b[0m \u001b[0mgetNames\u001b[0m\u001b[1;33m(\u001b[0m\u001b[0mb\u001b[0m\u001b[1;33m)\u001b[0m\u001b[1;33m\u001b[0m\u001b[1;33m\u001b[0m\u001b[0m\n\u001b[1;32m----> 3\u001b[1;33m \u001b[0mprint\u001b[0m\u001b[1;33m(\u001b[0m\u001b[0mfirst\u001b[0m\u001b[1;33m,\u001b[0m\u001b[0mlast\u001b[0m\u001b[1;33m)\u001b[0m\u001b[1;33m\u001b[0m\u001b[1;33m\u001b[0m\u001b[0m\n\u001b[0m",
      "\u001b[1;31mNameError\u001b[0m: name 'first' is not defined"
     ]
    }
   ],
   "source": [
    "b=\"Ashraful Hossain Alif\"\n",
    "getNames(b)\n",
    "print(first,last)"
   ]
  },
  {
   "cell_type": "code",
   "execution_count": 124,
   "metadata": {},
   "outputs": [
    {
     "name": "stdout",
     "output_type": "stream",
     "text": [
      "A,n\n"
     ]
    }
   ],
   "source": [
    "fullname=\"Arafat Rahman\"\n",
    "fullname.split()\n",
    "x=fullname[0]+\",\"+fullname[-1]\n",
    "print(x)"
   ]
  },
  {
   "cell_type": "markdown",
   "metadata": {},
   "source": [
    "# Lesson 2 (String)"
   ]
  },
  {
   "cell_type": "code",
   "execution_count": null,
   "metadata": {},
   "outputs": [],
   "source": []
  },
  {
   "cell_type": "code",
   "execution_count": null,
   "metadata": {},
   "outputs": [],
   "source": []
  },
  {
   "cell_type": "markdown",
   "metadata": {},
   "source": [
    "## Lesson 3 (List and Dictionaries)"
   ]
  },
  {
   "cell_type": "code",
   "execution_count": null,
   "metadata": {},
   "outputs": [],
   "source": []
  },
  {
   "cell_type": "markdown",
   "metadata": {},
   "source": [
    "# Lesson 4 (Tuples)"
   ]
  },
  {
   "cell_type": "code",
   "execution_count": null,
   "metadata": {},
   "outputs": [],
   "source": []
  }
 ],
 "metadata": {
  "kernelspec": {
   "display_name": "Python 3",
   "language": "python",
   "name": "python3"
  },
  "language_info": {
   "codemirror_mode": {
    "name": "ipython",
    "version": 3
   },
   "file_extension": ".py",
   "mimetype": "text/x-python",
   "name": "python",
   "nbconvert_exporter": "python",
   "pygments_lexer": "ipython3",
   "version": "3.8.8"
  }
 },
 "nbformat": 4,
 "nbformat_minor": 4
}
