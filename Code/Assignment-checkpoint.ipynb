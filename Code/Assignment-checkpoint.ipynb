{
 "cells": [
  {
   "cell_type": "code",
   "execution_count": 1,
   "id": "b1890328",
   "metadata": {},
   "outputs": [],
   "source": [
    "my_ass={'S':{'A':1,'C':1,'B':2},'A':{'C':1,'D':2,'G':6},'C':{'G':8},'B':{'D':2,'E':3},'D':{'E':1},'E':{'G':1}\n",
    "}"
   ]
  },
  {
   "cell_type": "code",
   "execution_count": 2,
   "id": "67d664a4",
   "metadata": {},
   "outputs": [],
   "source": [
    "h = {'S':10,'A':8,'B':5,'C':5,'D':4,'E':2,'G':0\n",
    "} "
   ]
  },
  {
   "cell_type": "code",
   "execution_count": 3,
   "id": "9febec1b",
   "metadata": {},
   "outputs": [],
   "source": [
    "from queue import PriorityQueue\n",
    "\n",
    "def gbfs(startingNode, destinationNode):\n",
    "    expanded = [] \n",
    "    frontier = PriorityQueue()\n",
    "\n",
    "    snode = (h[startingNode],startingNode,[startingNode],0)\n",
    "    frontier.put(snode)\n",
    "\n",
    "    while not frontier.empty():\n",
    "        unode = frontier.get() \n",
    "        u = unode[1]\n",
    "        \n",
    "        if u== destinationNode:            \n",
    "            print(unode)\n",
    "            print(expanded)\n",
    "            return unode[2] \n",
    "        expanded.append(u)\n",
    "        for v in my_ass[u].keys():            \n",
    "            if v not in expanded:\n",
    "                cost = unode[3] + my_ass[u][v]\n",
    "                path = unode[2]+[v]\n",
    "                frontier.put((h[v],v,path, cost))   \n",
    "    print('Failed')"
   ]
  },
  {
   "cell_type": "code",
   "execution_count": 4,
   "id": "be760afb",
   "metadata": {},
   "outputs": [
    {
     "name": "stdout",
     "output_type": "stream",
     "text": [
      "(0, 'G', ['S', 'B', 'E', 'G'], 6)\n",
      "['S', 'B', 'E']\n"
     ]
    },
    {
     "data": {
      "text/plain": [
       "['S', 'B', 'E', 'G']"
      ]
     },
     "execution_count": 4,
     "metadata": {},
     "output_type": "execute_result"
    }
   ],
   "source": [
    "gbfs('S', 'G')"
   ]
  },
  {
   "cell_type": "code",
   "execution_count": 5,
   "id": "08a3b285",
   "metadata": {},
   "outputs": [],
   "source": [
    "from queue import PriorityQueue\n",
    "\n",
    "def A_star(startingNode, destinationNode):\n",
    "    expanded = [] \n",
    "    frontier = PriorityQueue()\n",
    "\n",
    "    snode = (0+h[startingNode],startingNode,[startingNode],0) \n",
    "    frontier.put(snode)\n",
    "\n",
    "    while not frontier.empty():\n",
    "        unode = frontier.get() \n",
    "        u = unode[1]\n",
    "        \n",
    "        if u== destinationNode:           \n",
    "            print(unode)\n",
    "            print(expanded)\n",
    "            return unode[2] \n",
    "        expanded.append(u)\n",
    "        for v in my_ass[u].keys():            \n",
    "            if v not in expanded:\n",
    "                cost = unode[3] + my_ass[u][v]\n",
    "                path = unode[2]+[v]\n",
    "                frontier.put((cost+h[v],v,path, cost))   \n",
    "    print('Failed')"
   ]
  },
  {
   "cell_type": "code",
   "execution_count": 6,
   "id": "304a855e",
   "metadata": {},
   "outputs": [
    {
     "name": "stdout",
     "output_type": "stream",
     "text": [
      "(6, 'G', ['S', 'B', 'E', 'G'], 6)\n",
      "['S', 'C', 'B', 'E']\n"
     ]
    },
    {
     "data": {
      "text/plain": [
       "['S', 'B', 'E', 'G']"
      ]
     },
     "execution_count": 6,
     "metadata": {},
     "output_type": "execute_result"
    }
   ],
   "source": [
    "A_star('S', 'G')"
   ]
  },
  {
   "cell_type": "code",
   "execution_count": null,
   "id": "9b7a2c01",
   "metadata": {},
   "outputs": [],
   "source": []
  }
 ],
 "metadata": {
  "kernelspec": {
   "display_name": "Python 3",
   "language": "python",
   "name": "python3"
  },
  "language_info": {
   "codemirror_mode": {
    "name": "ipython",
    "version": 3
   },
   "file_extension": ".py",
   "mimetype": "text/x-python",
   "name": "python",
   "nbconvert_exporter": "python",
   "pygments_lexer": "ipython3",
   "version": "3.8.8"
  }
 },
 "nbformat": 4,
 "nbformat_minor": 5
}
