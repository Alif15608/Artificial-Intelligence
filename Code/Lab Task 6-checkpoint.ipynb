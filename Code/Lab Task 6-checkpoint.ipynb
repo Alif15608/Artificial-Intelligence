{
 "cells": [
  {
   "cell_type": "markdown",
   "id": "377413b3",
   "metadata": {},
   "source": [
    "# Problem: Maximize f(x) = x^3-9x+125 when x = 0 to 127"
   ]
  },
  {
   "cell_type": "markdown",
   "id": "70599bb4",
   "metadata": {},
   "source": [
    "Representation or ecoding solution: x can be represented using 7 bits binary number."
   ]
  },
  {
   "cell_type": "markdown",
   "id": "406cc50a",
   "metadata": {},
   "source": [
    "# Step 1: Initialize Population"
   ]
  },
  {
   "cell_type": "code",
   "execution_count": 2,
   "id": "e2e0ab29",
   "metadata": {},
   "outputs": [],
   "source": [
    "import random\n",
    "def initPopulation(n,b): \n",
    "    p = []\n",
    "    for i in range(n):\n",
    "        s = [] \n",
    "        for j in range(b):\n",
    "            s.append(random.choice([0,1]))    \n",
    "        p.append(s)\n",
    "    return p"
   ]
  },
  {
   "cell_type": "code",
   "execution_count": 3,
   "id": "231f9121",
   "metadata": {},
   "outputs": [
    {
     "data": {
      "text/plain": [
       "[[1, 1, 0, 1, 0, 0, 1],\n",
       " [0, 0, 0, 0, 1, 0, 0],\n",
       " [0, 0, 1, 1, 1, 1, 0],\n",
       " [1, 0, 1, 1, 0, 1, 0],\n",
       " [0, 0, 1, 0, 1, 1, 0],\n",
       " [1, 0, 1, 0, 1, 0, 1],\n",
       " [1, 1, 1, 0, 1, 0, 1],\n",
       " [0, 0, 1, 0, 1, 1, 1],\n",
       " [1, 1, 0, 0, 0, 1, 0],\n",
       " [0, 0, 0, 1, 1, 1, 1]]"
      ]
     },
     "execution_count": 3,
     "metadata": {},
     "output_type": "execute_result"
    }
   ],
   "source": [
    "population = initPopulation(10,7)\n",
    "population"
   ]
  },
  {
   "cell_type": "markdown",
   "id": "28897dc5",
   "metadata": {},
   "source": [
    "# Step 2: Reproduction or Parent Selection"
   ]
  },
  {
   "cell_type": "markdown",
   "id": "f8870706",
   "metadata": {},
   "source": [
    "Fitness Calculation"
   ]
  },
  {
   "cell_type": "code",
   "execution_count": 4,
   "id": "1cb83a85",
   "metadata": {},
   "outputs": [
    {
     "data": {
      "text/plain": [
       "[4, 3, 2, 1, 0]"
      ]
     },
     "execution_count": 4,
     "metadata": {},
     "output_type": "execute_result"
    }
   ],
   "source": [
    "[i for i in range(4,-1,-1)]"
   ]
  },
  {
   "cell_type": "code",
   "execution_count": 5,
   "id": "b1271c34",
   "metadata": {},
   "outputs": [],
   "source": [
    "def getFitness(p): \n",
    "    f = []\n",
    "    for s in p:\n",
    "        d = 0 \n",
    "        b = len(s)\n",
    "        for i in range(b-1,-1,-1): \n",
    "            d = d + s[i]*2**(b-1-i)\n",
    "        f.append(d**3 - 9*d + 125) \n",
    "    return f"
   ]
  },
  {
   "cell_type": "code",
   "execution_count": 6,
   "id": "184f3791",
   "metadata": {},
   "outputs": [
    {
     "data": {
      "text/plain": [
       "[1156805, 153, 26855, 728315, 10575, 613485, 1600685, 12085, 940435, 3365]"
      ]
     },
     "execution_count": 6,
     "metadata": {},
     "output_type": "execute_result"
    }
   ],
   "source": [
    "fitness = getFitness(population)\n",
    "fitness"
   ]
  },
  {
   "cell_type": "markdown",
   "id": "879ec0da",
   "metadata": {},
   "source": [
    "calculate probability and select parents"
   ]
  },
  {
   "cell_type": "code",
   "execution_count": 7,
   "id": "c0d38e3d",
   "metadata": {},
   "outputs": [],
   "source": [
    "def select_parent(n, fitness):\n",
    "    total_fitness = sum(fitness)\n",
    "    prob = [round(f/total_fitness,3) for f in fitness]\n",
    "    parents = []\n",
    "    for i in range(n):\n",
    "        r = random.choice(range(1,1001,1))/1000\n",
    "        lim = 0\n",
    "        for j in range(len(prob)):\n",
    "            lim = lim + prob[j]\n",
    "            if r <= lim :\n",
    "                print(j)\n",
    "                parents.append(population[j])\n",
    "                break\n",
    "    return parents"
   ]
  },
  {
   "cell_type": "code",
   "execution_count": 8,
   "id": "223cada0",
   "metadata": {},
   "outputs": [
    {
     "name": "stdout",
     "output_type": "stream",
     "text": [
      "8\n",
      "0\n",
      "5\n",
      "8\n",
      "6\n",
      "5\n"
     ]
    },
    {
     "data": {
      "text/plain": [
       "[[1, 1, 0, 0, 0, 1, 0],\n",
       " [1, 1, 0, 1, 0, 0, 1],\n",
       " [1, 0, 1, 0, 1, 0, 1],\n",
       " [1, 1, 0, 0, 0, 1, 0],\n",
       " [1, 1, 1, 0, 1, 0, 1],\n",
       " [1, 0, 1, 0, 1, 0, 1]]"
      ]
     },
     "execution_count": 8,
     "metadata": {},
     "output_type": "execute_result"
    }
   ],
   "source": [
    "parents = select_parent(6, fitness)\n",
    "parents"
   ]
  },
  {
   "cell_type": "markdown",
   "id": "c8893a09",
   "metadata": {},
   "source": [
    "# Step 3: Crossover"
   ]
  },
  {
   "cell_type": "code",
   "execution_count": 28,
   "id": "87570391",
   "metadata": {},
   "outputs": [
    {
     "name": "stdout",
     "output_type": "stream",
     "text": [
      "3.0\n",
      "[[[1, 1, 1, 0, 0, 1, 1], [1, 0, 0, 1, 0, 0, 0]], [[1, 0, 0, 1, 0, 0, 0], [1, 1, 1, 0, 1, 0, 1]], [[1, 1, 1, 0, 1, 0, 1], [1, 1, 1, 0, 0, 1, 1]], [[1, 1, 1, 0, 0, 1, 1], [1, 1, 0, 0, 1, 0, 1]]]\n"
     ]
    }
   ],
   "source": [
    "def crossover(o1, o2):\n",
    "    cp = random.choice(range(1,7))\n",
    "    offspring = []\n",
    "    for i in range(cp,7):\n",
    "        o1[i], o2[i] = o2[i], o1[i]\n",
    "    offspring.append(o1)\n",
    "    offspring.append(o2)\n",
    "    return offspring\n",
    "index = 0\n",
    "totalOffspring = []\n",
    "os = []\n",
    "num_cross = len(parents)/2\n",
    "print(num_cross)\n",
    "for i in range(4):\n",
    "    os = crossover(parents[i],parents[i+1])\n",
    "    totalOffspring.append(os)\n",
    "    index=index+2\n",
    "print(totalOffspring)"
   ]
  },
  {
   "cell_type": "markdown",
   "id": "de35fe26",
   "metadata": {},
   "source": [
    "# Step 4: Select Survivor"
   ]
  },
  {
   "cell_type": "code",
   "execution_count": 16,
   "id": "13e6a60f",
   "metadata": {},
   "outputs": [],
   "source": [
    "def getFitness(p): \n",
    "    f = []\n",
    "    for s in p:\n",
    "        d = 0 \n",
    "        b = len(s)\n",
    "        for i in range(b-1,-1,-1): \n",
    "            d = d + s[i]*2**(b-1-i)\n",
    "        f.append(d**3 - 9*d + 125) \n",
    "    return f"
   ]
  },
  {
   "cell_type": "code",
   "execution_count": 27,
   "id": "0482decc",
   "metadata": {},
   "outputs": [
    {
     "data": {
      "text/plain": [
       "[1442005, 328013, 1727045, 1442005, 1091925, 1727045]"
      ]
     },
     "execution_count": 27,
     "metadata": {},
     "output_type": "execute_result"
    }
   ],
   "source": [
    "fitness = getFitness(parents)\n",
    "fitness"
   ]
  },
  {
   "cell_type": "code",
   "execution_count": null,
   "id": "faabe44b",
   "metadata": {},
   "outputs": [],
   "source": []
  }
 ],
 "metadata": {
  "kernelspec": {
   "display_name": "Python 3",
   "language": "python",
   "name": "python3"
  },
  "language_info": {
   "codemirror_mode": {
    "name": "ipython",
    "version": 3
   },
   "file_extension": ".py",
   "mimetype": "text/x-python",
   "name": "python",
   "nbconvert_exporter": "python",
   "pygments_lexer": "ipython3",
   "version": "3.8.8"
  }
 },
 "nbformat": 4,
 "nbformat_minor": 5
}
